{
 "cells": [
  {
   "cell_type": "markdown",
   "metadata": {},
   "source": [
    "A simple program to easily calculate the Riemann tensor of the Schwarzschild's metric. r_s is the Schwarzschild's radius."
   ]
  },
  {
   "cell_type": "code",
   "execution_count": 31,
   "metadata": {},
   "outputs": [
    {
     "data": {
      "text/html": [
       "<html>\\[\\newcommand{\\Bold}[1]{\\mathbf{#1}}g = \\left( -\\frac{r_{s}}{r} + 1 \\right) \\mathrm{d} t\\otimes \\mathrm{d} t + \\left( \\frac{1}{\\frac{r_{s}}{r} - 1} \\right) \\mathrm{d} r\\otimes \\mathrm{d} r -r^{2} \\mathrm{d} \\theta\\otimes \\mathrm{d} \\theta -r^{2} \\sin\\left(\\theta\\right)^{2} \\mathrm{d} \\phi\\otimes \\mathrm{d} \\phi\\]</html>"
      ],
      "text/latex": [
       "$$\\newcommand{\\Bold}[1]{\\mathbf{#1}}g = \\left( -\\frac{r_{s}}{r} + 1 \\right) \\mathrm{d} t\\otimes \\mathrm{d} t + \\left( \\frac{1}{\\frac{r_{s}}{r} - 1} \\right) \\mathrm{d} r\\otimes \\mathrm{d} r -r^{2} \\mathrm{d} \\theta\\otimes \\mathrm{d} \\theta -r^{2} \\sin\\left(\\theta\\right)^{2} \\mathrm{d} \\phi\\otimes \\mathrm{d} \\phi$$"
      ],
      "text/plain": [
       "g = (-r_s/r + 1) dt⊗dt + 1/(r_s/r - 1) dr⊗dr - r^2 dtheta⊗dtheta - r^2*sin(theta)^2 dphi⊗dphi"
      ]
     },
     "execution_count": 31,
     "metadata": {},
     "output_type": "execute_result"
    }
   ],
   "source": [
    "%display latex\n",
    "from sage.tensor.modules.tensor_with_indices import TensorWithIndices\n",
    "\n",
    "var('t', 'theta', 'phi', 'r', 'r_s')\n",
    "\n",
    "M = Manifold(4, 'M')\n",
    "Y.<t,r,theta,phi> = M.chart()\n",
    "M.set_default_chart(Y)\n",
    "\n",
    "g = M.riemannian_metric('g')\n",
    "g[0,0], g[1,1], g[2,2], g[3,3] = 1 - r_s/r, -1/(1 - r_s/r), -r**2, -(r*sin(theta))**2\n",
    "g[:]\n",
    "g.display()"
   ]
  },
  {
   "cell_type": "code",
   "execution_count": 33,
   "metadata": {},
   "outputs": [
    {
     "data": {
      "text/html": [
       "<html>\\[\\newcommand{\\Bold}[1]{\\mathbf{#1}}\\begin{array}{lcl} \\mathrm{Riem}\\left(g\\right)_{ \\phantom{\\, t} \\, r \\, t \\, r }^{ \\, t \\phantom{\\, r} \\phantom{\\, t} \\phantom{\\, r} } & = & \\frac{r_{s}}{r^{3} - r^{2} r_{s}} \\\\ \\mathrm{Riem}\\left(g\\right)_{ \\phantom{\\, t} \\, \\theta \\, t \\, \\theta }^{ \\, t \\phantom{\\, \\theta} \\phantom{\\, t} \\phantom{\\, \\theta} } & = & -\\frac{r_{s}}{2 \\, r} \\\\ \\mathrm{Riem}\\left(g\\right)_{ \\phantom{\\, t} \\, \\phi \\, t \\, \\phi }^{ \\, t \\phantom{\\, \\phi} \\phantom{\\, t} \\phantom{\\, \\phi} } & = & -\\frac{r_{s} \\sin\\left(\\theta\\right)^{2}}{2 \\, r} \\\\ \\mathrm{Riem}\\left(g\\right)_{ \\phantom{\\, r} \\, t \\, t \\, r }^{ \\, r \\phantom{\\, t} \\phantom{\\, t} \\phantom{\\, r} } & = & \\frac{r r_{s} - r_{s}^{2}}{r^{4}} \\\\ \\mathrm{Riem}\\left(g\\right)_{ \\phantom{\\, r} \\, \\theta \\, r \\, \\theta }^{ \\, r \\phantom{\\, \\theta} \\phantom{\\, r} \\phantom{\\, \\theta} } & = & -\\frac{r_{s}}{2 \\, r} \\\\ \\mathrm{Riem}\\left(g\\right)_{ \\phantom{\\, r} \\, \\phi \\, r \\, \\phi }^{ \\, r \\phantom{\\, \\phi} \\phantom{\\, r} \\phantom{\\, \\phi} } & = & -\\frac{r_{s} \\sin\\left(\\theta\\right)^{2}}{2 \\, r} \\\\ \\mathrm{Riem}\\left(g\\right)_{ \\phantom{\\, \\theta} \\, t \\, t \\, \\theta }^{ \\, \\theta \\phantom{\\, t} \\phantom{\\, t} \\phantom{\\, \\theta} } & = & -\\frac{r r_{s} - r_{s}^{2}}{2 \\, r^{4}} \\\\ \\mathrm{Riem}\\left(g\\right)_{ \\phantom{\\, \\theta} \\, r \\, r \\, \\theta }^{ \\, \\theta \\phantom{\\, r} \\phantom{\\, r} \\phantom{\\, \\theta} } & = & \\frac{r_{s}}{2 \\, {\\left(r^{3} - r^{2} r_{s}\\right)}} \\\\ \\mathrm{Riem}\\left(g\\right)_{ \\phantom{\\, \\theta} \\, \\phi \\, \\theta \\, \\phi }^{ \\, \\theta \\phantom{\\, \\phi} \\phantom{\\, \\theta} \\phantom{\\, \\phi} } & = & \\frac{r_{s} \\sin\\left(\\theta\\right)^{2}}{r} \\\\ \\mathrm{Riem}\\left(g\\right)_{ \\phantom{\\, \\phi} \\, t \\, t \\, \\phi }^{ \\, \\phi \\phantom{\\, t} \\phantom{\\, t} \\phantom{\\, \\phi} } & = & -\\frac{r r_{s} - r_{s}^{2}}{2 \\, r^{4}} \\\\ \\mathrm{Riem}\\left(g\\right)_{ \\phantom{\\, \\phi} \\, r \\, r \\, \\phi }^{ \\, \\phi \\phantom{\\, r} \\phantom{\\, r} \\phantom{\\, \\phi} } & = & \\frac{r_{s}}{2 \\, {\\left(r^{3} - r^{2} r_{s}\\right)}} \\\\ \\mathrm{Riem}\\left(g\\right)_{ \\phantom{\\, \\phi} \\, \\theta \\, \\theta \\, \\phi }^{ \\, \\phi \\phantom{\\, \\theta} \\phantom{\\, \\theta} \\phantom{\\, \\phi} } & = & -\\frac{r_{s}}{r} \\end{array}\\]</html>"
      ],
      "text/latex": [
       "$$\\newcommand{\\Bold}[1]{\\mathbf{#1}}\\begin{array}{lcl} \\mathrm{Riem}\\left(g\\right)_{ \\phantom{\\, t} \\, r \\, t \\, r }^{ \\, t \\phantom{\\, r} \\phantom{\\, t} \\phantom{\\, r} } & = & \\frac{r_{s}}{r^{3} - r^{2} r_{s}} \\\\ \\mathrm{Riem}\\left(g\\right)_{ \\phantom{\\, t} \\, \\theta \\, t \\, \\theta }^{ \\, t \\phantom{\\, \\theta} \\phantom{\\, t} \\phantom{\\, \\theta} } & = & -\\frac{r_{s}}{2 \\, r} \\\\ \\mathrm{Riem}\\left(g\\right)_{ \\phantom{\\, t} \\, \\phi \\, t \\, \\phi }^{ \\, t \\phantom{\\, \\phi} \\phantom{\\, t} \\phantom{\\, \\phi} } & = & -\\frac{r_{s} \\sin\\left(\\theta\\right)^{2}}{2 \\, r} \\\\ \\mathrm{Riem}\\left(g\\right)_{ \\phantom{\\, r} \\, t \\, t \\, r }^{ \\, r \\phantom{\\, t} \\phantom{\\, t} \\phantom{\\, r} } & = & \\frac{r r_{s} - r_{s}^{2}}{r^{4}} \\\\ \\mathrm{Riem}\\left(g\\right)_{ \\phantom{\\, r} \\, \\theta \\, r \\, \\theta }^{ \\, r \\phantom{\\, \\theta} \\phantom{\\, r} \\phantom{\\, \\theta} } & = & -\\frac{r_{s}}{2 \\, r} \\\\ \\mathrm{Riem}\\left(g\\right)_{ \\phantom{\\, r} \\, \\phi \\, r \\, \\phi }^{ \\, r \\phantom{\\, \\phi} \\phantom{\\, r} \\phantom{\\, \\phi} } & = & -\\frac{r_{s} \\sin\\left(\\theta\\right)^{2}}{2 \\, r} \\\\ \\mathrm{Riem}\\left(g\\right)_{ \\phantom{\\, \\theta} \\, t \\, t \\, \\theta }^{ \\, \\theta \\phantom{\\, t} \\phantom{\\, t} \\phantom{\\, \\theta} } & = & -\\frac{r r_{s} - r_{s}^{2}}{2 \\, r^{4}} \\\\ \\mathrm{Riem}\\left(g\\right)_{ \\phantom{\\, \\theta} \\, r \\, r \\, \\theta }^{ \\, \\theta \\phantom{\\, r} \\phantom{\\, r} \\phantom{\\, \\theta} } & = & \\frac{r_{s}}{2 \\, {\\left(r^{3} - r^{2} r_{s}\\right)}} \\\\ \\mathrm{Riem}\\left(g\\right)_{ \\phantom{\\, \\theta} \\, \\phi \\, \\theta \\, \\phi }^{ \\, \\theta \\phantom{\\, \\phi} \\phantom{\\, \\theta} \\phantom{\\, \\phi} } & = & \\frac{r_{s} \\sin\\left(\\theta\\right)^{2}}{r} \\\\ \\mathrm{Riem}\\left(g\\right)_{ \\phantom{\\, \\phi} \\, t \\, t \\, \\phi }^{ \\, \\phi \\phantom{\\, t} \\phantom{\\, t} \\phantom{\\, \\phi} } & = & -\\frac{r r_{s} - r_{s}^{2}}{2 \\, r^{4}} \\\\ \\mathrm{Riem}\\left(g\\right)_{ \\phantom{\\, \\phi} \\, r \\, r \\, \\phi }^{ \\, \\phi \\phantom{\\, r} \\phantom{\\, r} \\phantom{\\, \\phi} } & = & \\frac{r_{s}}{2 \\, {\\left(r^{3} - r^{2} r_{s}\\right)}} \\\\ \\mathrm{Riem}\\left(g\\right)_{ \\phantom{\\, \\phi} \\, \\theta \\, \\theta \\, \\phi }^{ \\, \\phi \\phantom{\\, \\theta} \\phantom{\\, \\theta} \\phantom{\\, \\phi} } & = & -\\frac{r_{s}}{r} \\end{array}$$"
      ],
      "text/plain": [
       "Riem(g)^t_r,t,r = r_s/(r^3 - r^2*r_s) \n",
       "Riem(g)^t_theta,t,theta = -1/2*r_s/r \n",
       "Riem(g)^t_phi,t,phi = -1/2*r_s*sin(theta)^2/r \n",
       "Riem(g)^r_t,t,r = (r*r_s - r_s^2)/r^4 \n",
       "Riem(g)^r_theta,r,theta = -1/2*r_s/r \n",
       "Riem(g)^r_phi,r,phi = -1/2*r_s*sin(theta)^2/r \n",
       "Riem(g)^theta_t,t,theta = -1/2*(r*r_s - r_s^2)/r^4 \n",
       "Riem(g)^theta_r,r,theta = 1/2*r_s/(r^3 - r^2*r_s) \n",
       "Riem(g)^theta_phi,theta,phi = r_s*sin(theta)^2/r \n",
       "Riem(g)^phi_t,t,phi = -1/2*(r*r_s - r_s^2)/r^4 \n",
       "Riem(g)^phi_r,r,phi = 1/2*r_s/(r^3 - r^2*r_s) \n",
       "Riem(g)^phi_theta,theta,phi = -r_s/r "
      ]
     },
     "execution_count": 33,
     "metadata": {},
     "output_type": "execute_result"
    }
   ],
   "source": [
    "Riem = g.riemann()\n",
    "Riem.display_comp(only_nonredundant=True)"
   ]
  },
  {
   "cell_type": "markdown",
   "metadata": {},
   "source": [
    "Now we lower the first index of the Riemann tensor"
   ]
  },
  {
   "cell_type": "code",
   "execution_count": 48,
   "metadata": {},
   "outputs": [
    {
     "data": {
      "text/html": [
       "<html>\\[\\newcommand{\\Bold}[1]{\\mathbf{#1}}\\begin{array}{lcl} R_{ \\, t \\, r \\, t \\, r }^{ \\phantom{\\, t}\\phantom{\\, r}\\phantom{\\, t}\\phantom{\\, r} } & = & \\frac{r_{s}}{r^{3}} \\\\ R_{ \\, t \\, \\theta \\, t \\, \\theta }^{ \\phantom{\\, t}\\phantom{\\, \\theta}\\phantom{\\, t}\\phantom{\\, \\theta} } & = & -\\frac{r r_{s} - r_{s}^{2}}{2 \\, r^{2}} \\\\ R_{ \\, t \\, \\phi \\, t \\, \\phi }^{ \\phantom{\\, t}\\phantom{\\, \\phi}\\phantom{\\, t}\\phantom{\\, \\phi} } & = & -\\frac{{\\left(r r_{s} - r_{s}^{2}\\right)} \\sin\\left(\\theta\\right)^{2}}{2 \\, r^{2}} \\\\ R_{ \\, r \\, t \\, t \\, r }^{ \\phantom{\\, r}\\phantom{\\, t}\\phantom{\\, t}\\phantom{\\, r} } & = & -\\frac{r_{s}}{r^{3}} \\\\ R_{ \\, r \\, \\theta \\, r \\, \\theta }^{ \\phantom{\\, r}\\phantom{\\, \\theta}\\phantom{\\, r}\\phantom{\\, \\theta} } & = & \\frac{r_{s}}{2 \\, {\\left(r - r_{s}\\right)}} \\\\ R_{ \\, r \\, \\phi \\, r \\, \\phi }^{ \\phantom{\\, r}\\phantom{\\, \\phi}\\phantom{\\, r}\\phantom{\\, \\phi} } & = & \\frac{r_{s} \\sin\\left(\\theta\\right)^{2}}{2 \\, {\\left(r - r_{s}\\right)}} \\\\ R_{ \\, \\theta \\, t \\, t \\, \\theta }^{ \\phantom{\\, \\theta}\\phantom{\\, t}\\phantom{\\, t}\\phantom{\\, \\theta} } & = & \\frac{r r_{s} - r_{s}^{2}}{2 \\, r^{2}} \\\\ R_{ \\, \\theta \\, r \\, r \\, \\theta }^{ \\phantom{\\, \\theta}\\phantom{\\, r}\\phantom{\\, r}\\phantom{\\, \\theta} } & = & -\\frac{r_{s}}{2 \\, {\\left(r - r_{s}\\right)}} \\\\ R_{ \\, \\theta \\, \\phi \\, \\theta \\, \\phi }^{ \\phantom{\\, \\theta}\\phantom{\\, \\phi}\\phantom{\\, \\theta}\\phantom{\\, \\phi} } & = & -r r_{s} \\sin\\left(\\theta\\right)^{2} \\\\ R_{ \\, \\phi \\, t \\, t \\, \\phi }^{ \\phantom{\\, \\phi}\\phantom{\\, t}\\phantom{\\, t}\\phantom{\\, \\phi} } & = & \\frac{{\\left(r r_{s} - r_{s}^{2}\\right)} \\sin\\left(\\theta\\right)^{2}}{2 \\, r^{2}} \\\\ R_{ \\, \\phi \\, r \\, r \\, \\phi }^{ \\phantom{\\, \\phi}\\phantom{\\, r}\\phantom{\\, r}\\phantom{\\, \\phi} } & = & -\\frac{r_{s} \\sin\\left(\\theta\\right)^{2}}{2 \\, {\\left(r - r_{s}\\right)}} \\\\ R_{ \\, \\phi \\, \\theta \\, \\theta \\, \\phi }^{ \\phantom{\\, \\phi}\\phantom{\\, \\theta}\\phantom{\\, \\theta}\\phantom{\\, \\phi} } & = & r r_{s} \\sin\\left(\\theta\\right)^{2} \\end{array}\\]</html>"
      ],
      "text/latex": [
       "$$\\newcommand{\\Bold}[1]{\\mathbf{#1}}\\begin{array}{lcl} R_{ \\, t \\, r \\, t \\, r }^{ \\phantom{\\, t}\\phantom{\\, r}\\phantom{\\, t}\\phantom{\\, r} } & = & \\frac{r_{s}}{r^{3}} \\\\ R_{ \\, t \\, \\theta \\, t \\, \\theta }^{ \\phantom{\\, t}\\phantom{\\, \\theta}\\phantom{\\, t}\\phantom{\\, \\theta} } & = & -\\frac{r r_{s} - r_{s}^{2}}{2 \\, r^{2}} \\\\ R_{ \\, t \\, \\phi \\, t \\, \\phi }^{ \\phantom{\\, t}\\phantom{\\, \\phi}\\phantom{\\, t}\\phantom{\\, \\phi} } & = & -\\frac{{\\left(r r_{s} - r_{s}^{2}\\right)} \\sin\\left(\\theta\\right)^{2}}{2 \\, r^{2}} \\\\ R_{ \\, r \\, t \\, t \\, r }^{ \\phantom{\\, r}\\phantom{\\, t}\\phantom{\\, t}\\phantom{\\, r} } & = & -\\frac{r_{s}}{r^{3}} \\\\ R_{ \\, r \\, \\theta \\, r \\, \\theta }^{ \\phantom{\\, r}\\phantom{\\, \\theta}\\phantom{\\, r}\\phantom{\\, \\theta} } & = & \\frac{r_{s}}{2 \\, {\\left(r - r_{s}\\right)}} \\\\ R_{ \\, r \\, \\phi \\, r \\, \\phi }^{ \\phantom{\\, r}\\phantom{\\, \\phi}\\phantom{\\, r}\\phantom{\\, \\phi} } & = & \\frac{r_{s} \\sin\\left(\\theta\\right)^{2}}{2 \\, {\\left(r - r_{s}\\right)}} \\\\ R_{ \\, \\theta \\, t \\, t \\, \\theta }^{ \\phantom{\\, \\theta}\\phantom{\\, t}\\phantom{\\, t}\\phantom{\\, \\theta} } & = & \\frac{r r_{s} - r_{s}^{2}}{2 \\, r^{2}} \\\\ R_{ \\, \\theta \\, r \\, r \\, \\theta }^{ \\phantom{\\, \\theta}\\phantom{\\, r}\\phantom{\\, r}\\phantom{\\, \\theta} } & = & -\\frac{r_{s}}{2 \\, {\\left(r - r_{s}\\right)}} \\\\ R_{ \\, \\theta \\, \\phi \\, \\theta \\, \\phi }^{ \\phantom{\\, \\theta}\\phantom{\\, \\phi}\\phantom{\\, \\theta}\\phantom{\\, \\phi} } & = & -r r_{s} \\sin\\left(\\theta\\right)^{2} \\\\ R_{ \\, \\phi \\, t \\, t \\, \\phi }^{ \\phantom{\\, \\phi}\\phantom{\\, t}\\phantom{\\, t}\\phantom{\\, \\phi} } & = & \\frac{{\\left(r r_{s} - r_{s}^{2}\\right)} \\sin\\left(\\theta\\right)^{2}}{2 \\, r^{2}} \\\\ R_{ \\, \\phi \\, r \\, r \\, \\phi }^{ \\phantom{\\, \\phi}\\phantom{\\, r}\\phantom{\\, r}\\phantom{\\, \\phi} } & = & -\\frac{r_{s} \\sin\\left(\\theta\\right)^{2}}{2 \\, {\\left(r - r_{s}\\right)}} \\\\ R_{ \\, \\phi \\, \\theta \\, \\theta \\, \\phi }^{ \\phantom{\\, \\phi}\\phantom{\\, \\theta}\\phantom{\\, \\theta}\\phantom{\\, \\phi} } & = & r r_{s} \\sin\\left(\\theta\\right)^{2} \\end{array}$$"
      ],
      "text/plain": [
       "R_t,r,t,r = r_s/r^3 \n",
       "R_t,theta,t,theta = -1/2*(r*r_s - r_s^2)/r^2 \n",
       "R_t,phi,t,phi = -1/2*(r*r_s - r_s^2)*sin(theta)^2/r^2 \n",
       "R_r,t,t,r = -r_s/r^3 \n",
       "R_r,theta,r,theta = 1/2*r_s/(r - r_s) \n",
       "R_r,phi,r,phi = 1/2*r_s*sin(theta)^2/(r - r_s) \n",
       "R_theta,t,t,theta = 1/2*(r*r_s - r_s^2)/r^2 \n",
       "R_theta,r,r,theta = -1/2*r_s/(r - r_s) \n",
       "R_theta,phi,theta,phi = -r*r_s*sin(theta)^2 \n",
       "R_phi,t,t,phi = 1/2*(r*r_s - r_s^2)*sin(theta)^2/r^2 \n",
       "R_phi,r,r,phi = -1/2*r_s*sin(theta)^2/(r - r_s) \n",
       "R_phi,theta,theta,phi = r*r_s*sin(theta)^2 "
      ]
     },
     "execution_count": 48,
     "metadata": {},
     "output_type": "execute_result"
    }
   ],
   "source": [
    "R2 = Riem.down(g)\n",
    "R2.set_name('R')\n",
    "R2.display_comp(only_nonredundant=True)"
   ]
  }
 ],
 "metadata": {
  "kernelspec": {
   "display_name": "SageMath 9.4",
   "language": "sage",
   "name": "sagemath"
  },
  "language_info": {
   "codemirror_mode": {
    "name": "ipython",
    "version": 3
   },
   "file_extension": ".py",
   "mimetype": "text/x-python",
   "name": "python",
   "nbconvert_exporter": "python",
   "pygments_lexer": "ipython3",
   "version": "3.8.10"
  }
 },
 "nbformat": 4,
 "nbformat_minor": 4
}
